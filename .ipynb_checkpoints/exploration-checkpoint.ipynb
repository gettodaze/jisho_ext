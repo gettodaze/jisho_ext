{
 "cells": [
  {
   "cell_type": "code",
   "execution_count": 1,
   "metadata": {},
   "outputs": [],
   "source": [
    "import requests\n",
    "request_str = r\"https://jisho.org/api/v1/search/words?keyword=\""
   ]
  },
  {
   "cell_type": "code",
   "execution_count": 2,
   "metadata": {},
   "outputs": [],
   "source": [
    "def num_to_letter(num):\n",
    "    return chr(num+64)\n",
    "def letter_to_num(letter):\n",
    "    return ord(num-64)\n",
    "\n",
    "def jisho_api(keyword):\n",
    "    response = requests.get(request_str+keyword)\n",
    "    if response.status_code == 200:\n",
    "        return response.json()\n",
    "    else:\n",
    "        return {}\n",
    "def sense_to_def(sense):\n",
    "    return ', '.join(sense['english_definitions'])\n",
    "def entry_to_text(entry):\n",
    "    japanese = entry['japanese']\n",
    "    japanese_words = [f'{w[\"word\"]} ({w[\"reading\"]})'for w in japanese]\n",
    "    entry_str = '; '.join(japanese_words)+':\\n'\n",
    "    for i, sense in enumerate(entry['senses']):\n",
    "        semicolon = '; ' if i < len(entry['senses']) - 1 else ''\n",
    "        def_str = f'({i+1}) '+sense_to_def(sense)+semicolon\n",
    "        entry_str += def_str\n",
    "    return entry_str\n",
    "def response_to_def(resp):\n",
    "    data = resp['data']\n",
    "    ret = ''\n",
    "    for i,entry in enumerate(data):\n",
    "        linebreak = '\\n\\n' if i != 0 else ''\n",
    "        ret += linebreak + num_to_letter(1+i)+'. '\n",
    "        ret += entry_to_text(entry)\n",
    "    return ret\n",
    "\n",
    "def search(keyword):\n",
    "    print(response_to_def(jisho_api(keyword)))"
   ]
  },
  {
   "cell_type": "code",
   "execution_count": 3,
   "metadata": {},
   "outputs": [
    {
     "name": "stdout",
     "output_type": "stream",
     "text": [
      "A. 筆者 (ひっしゃ):\n",
      "(1) writer, author\n"
     ]
    }
   ],
   "source": [
    "search('筆者')"
   ]
  },
  {
   "cell_type": "code",
   "execution_count": 4,
   "metadata": {},
   "outputs": [],
   "source": [
    "t = jisho_api('筆者')"
   ]
  },
  {
   "cell_type": "code",
   "execution_count": 5,
   "metadata": {},
   "outputs": [
    {
     "data": {
      "text/plain": [
       "{'meta': {'status': 200},\n",
       " 'data': [{'slug': '筆者',\n",
       "   'is_common': True,\n",
       "   'tags': [],\n",
       "   'jlpt': ['jlpt-n2'],\n",
       "   'japanese': [{'word': '筆者', 'reading': 'ひっしゃ'}],\n",
       "   'senses': [{'english_definitions': ['writer', 'author'],\n",
       "     'parts_of_speech': ['Noun'],\n",
       "     'links': [],\n",
       "     'tags': [],\n",
       "     'restrictions': [],\n",
       "     'see_also': [],\n",
       "     'antonyms': [],\n",
       "     'source': [],\n",
       "     'info': ['often in self-reference']}],\n",
       "   'attribution': {'jmdict': True, 'jmnedict': False, 'dbpedia': False}}]}"
      ]
     },
     "execution_count": 5,
     "metadata": {},
     "output_type": "execute_result"
    }
   ],
   "source": [
    "t"
   ]
  },
  {
   "cell_type": "code",
   "execution_count": 6,
   "metadata": {
    "scrolled": true
   },
   "outputs": [
    {
     "name": "stdout",
     "output_type": "stream",
     "text": [
      "A. 今日は (こんにちは)\n",
      "(1) hello, good day, good afternoon\n",
      "\n",
      "B.  (もしもし)\n",
      "(1) hello (e.g. on phone)(2) excuse me! (when calling out to someone)\n",
      "\n",
      "C. 今日わ (こんにちわ)\n",
      "(1) hello, good day, good afternoon\n",
      "\n",
      "D.  (アンニョンハセヨ);  (アニョハセヨ)\n",
      "(1) hello, hi\n",
      "\n",
      "E.  (ハイサイ);  (はいさい)\n",
      "(1) hello, hi\n",
      "\n",
      "F. 你好 (ニーハオ)\n",
      "(1) hello\n",
      "\n",
      "G.  (アンニョンハシムニカ)\n",
      "(1) hello\n",
      "\n",
      "H.  (ちわ);  (ちわっ);  (ちわー)\n",
      "(1) hello, hi\n",
      "\n",
      "I.  (ハロー);  (ハロ)\n",
      "(1) halo; (2) hello, hallo, hullo; (3) harrow; (4) Harrow (Britain)(5) Galactic halo\n",
      "\n",
      "J.  (どうも)\n",
      "(1) thank you, thanks; (2) much (thanks), very (sorry), quite (regret); (3) quite, really, mostly; (4) somehow; (5) in spite of oneself, try as one might, no matter how hard one may try (to, not to)(6) greetings, hello, goodbye\n",
      "\n",
      "K.  (いよう);  (いよっ)\n",
      "(1) hey, hello, hi; (2) wow, oh, ooh(3) oomph, heave-ho\n",
      "\n",
      "L.  (やあやあ);  (やーやー);  (ヤーヤー);  (ヤアヤア)\n",
      "(1) hi, hello; (2) hey, listen!; (3) oh(4) come on!\n",
      "\n",
      "M.  (チョリース);  (ちょりーす);  (チョリーッス);  (ちょりーっす)\n",
      "(1) hi, hello(2) gotcha, understood\n",
      "\n",
      "N. 挨拶回り (あいさつまわり); 挨拶まわり (あいさつまわり); あいさつ回り (あいさつまわり)\n",
      "(1) courtesy call, going around to say hello (or goodbye) to everybody, making the rounds\n",
      "\n",
      "O.  (はいはい)\n",
      "(1) yeah, yeah, whatever, sure; (2) yes, sure, gotcha; (3) hello(4) giddy-up, gee-up, giddap\n",
      "\n",
      "P.  (ハローワーク);  (ハロー・ワーク)\n",
      "(1) Hello Work, nickname for the Public Employment Security Office\n",
      "\n",
      "Q.  (ハローページ);  (ハロー・ページ)\n",
      "(1) Hello Page (NTT white pages)\n",
      "\n",
      "R.  (ポケハロ)\n",
      "(1) \"pocket Hello Kitty\" that combines a pedometer and a tamagotchi\n",
      "\n",
      "S.  (ほいほい);  (ホイホイ)\n",
      "(1) recklessly, thoughtlessly, carelessly, readily, blithely, willingly, easily; (2) pamperingly, indulgently, carefully (not angering); (3) shoo!; (4) heave-ho; (5) hallo, hello; (6) Hui (people)(7) novice, beginner\n",
      "\n",
      "T. 公共職業安定所 (こうきょうしょくぎょうあんていじょ)\n",
      "(1) Public Employment Security Office, PESO(2) Hello Work\n"
     ]
    },
    {
     "data": {
      "text/plain": [
       "{'A': {'senses': {1: 'hello, good day, good afternoon'},\n",
       "  'entry': [{'word': '今日は', 'reading': 'こんにちは'}]},\n",
       " 'B': {'senses': {1: 'hello (e.g. on phone)',\n",
       "   2: 'excuse me! (when calling out to someone)'},\n",
       "  'entry': [{'reading': 'もしもし'}]},\n",
       " 'C': {'senses': {1: 'hello, good day, good afternoon'},\n",
       "  'entry': [{'word': '今日わ', 'reading': 'こんにちわ'}]},\n",
       " 'D': {'senses': {1: 'hello, hi'},\n",
       "  'entry': [{'reading': 'アンニョンハセヨ'}, {'reading': 'アニョハセヨ'}]},\n",
       " 'E': {'senses': {1: 'hello, hi'},\n",
       "  'entry': [{'reading': 'ハイサイ'}, {'reading': 'はいさい'}]},\n",
       " 'F': {'senses': {1: 'hello'}, 'entry': [{'word': '你好', 'reading': 'ニーハオ'}]},\n",
       " 'G': {'senses': {1: 'hello'}, 'entry': [{'reading': 'アンニョンハシムニカ'}]},\n",
       " 'H': {'senses': {1: 'hello, hi'},\n",
       "  'entry': [{'reading': 'ちわ'}, {'reading': 'ちわっ'}, {'reading': 'ちわー'}]},\n",
       " 'I': {'senses': {1: 'halo',\n",
       "   2: 'hello, hallo, hullo',\n",
       "   3: 'harrow',\n",
       "   4: 'Harrow (Britain)',\n",
       "   5: 'Galactic halo'},\n",
       "  'entry': [{'reading': 'ハロー'}, {'reading': 'ハロ'}]},\n",
       " 'J': {'senses': {1: 'thank you, thanks',\n",
       "   2: 'much (thanks), very (sorry), quite (regret)',\n",
       "   3: 'quite, really, mostly',\n",
       "   4: 'somehow',\n",
       "   5: 'in spite of oneself, try as one might, no matter how hard one may try (to, not to)',\n",
       "   6: 'greetings, hello, goodbye'},\n",
       "  'entry': [{'reading': 'どうも'}]},\n",
       " 'K': {'senses': {1: 'hey, hello, hi',\n",
       "   2: 'wow, oh, ooh',\n",
       "   3: 'oomph, heave-ho'},\n",
       "  'entry': [{'reading': 'いよう'}, {'reading': 'いよっ'}]},\n",
       " 'L': {'senses': {1: 'hi, hello', 2: 'hey, listen!', 3: 'oh', 4: 'come on!'},\n",
       "  'entry': [{'reading': 'やあやあ'},\n",
       "   {'reading': 'やーやー'},\n",
       "   {'reading': 'ヤーヤー'},\n",
       "   {'reading': 'ヤアヤア'}]},\n",
       " 'M': {'senses': {1: 'hi, hello', 2: 'gotcha, understood'},\n",
       "  'entry': [{'reading': 'チョリース'},\n",
       "   {'reading': 'ちょりーす'},\n",
       "   {'reading': 'チョリーッス'},\n",
       "   {'reading': 'ちょりーっす'}]},\n",
       " 'N': {'senses': {1: 'courtesy call, going around to say hello (or goodbye) to everybody, making the rounds'},\n",
       "  'entry': [{'word': '挨拶回り', 'reading': 'あいさつまわり'},\n",
       "   {'word': '挨拶まわり', 'reading': 'あいさつまわり'},\n",
       "   {'word': 'あいさつ回り', 'reading': 'あいさつまわり'}]},\n",
       " 'O': {'senses': {1: 'yeah, yeah, whatever, sure',\n",
       "   2: 'yes, sure, gotcha',\n",
       "   3: 'hello',\n",
       "   4: 'giddy-up, gee-up, giddap'},\n",
       "  'entry': [{'reading': 'はいはい'}]},\n",
       " 'P': {'senses': {1: 'Hello Work, nickname for the Public Employment Security Office'},\n",
       "  'entry': [{'reading': 'ハローワーク'}, {'reading': 'ハロー・ワーク'}]},\n",
       " 'Q': {'senses': {1: 'Hello Page (NTT white pages)'},\n",
       "  'entry': [{'reading': 'ハローページ'}, {'reading': 'ハロー・ページ'}]},\n",
       " 'R': {'senses': {1: '\"pocket Hello Kitty\" that combines a pedometer and a tamagotchi'},\n",
       "  'entry': [{'reading': 'ポケハロ'}]},\n",
       " 'S': {'senses': {1: 'recklessly, thoughtlessly, carelessly, readily, blithely, willingly, easily',\n",
       "   2: 'pamperingly, indulgently, carefully (not angering)',\n",
       "   3: 'shoo!',\n",
       "   4: 'heave-ho',\n",
       "   5: 'hallo, hello',\n",
       "   6: 'Hui (people)',\n",
       "   7: 'novice, beginner'},\n",
       "  'entry': [{'reading': 'ほいほい'}, {'reading': 'ホイホイ'}]},\n",
       " 'T': {'senses': {1: 'Public Employment Security Office, PESO',\n",
       "   2: 'Hello Work'},\n",
       "  'entry': [{'word': '公共職業安定所', 'reading': 'こうきょうしょくぎょうあんていじょ'}]}}"
      ]
     },
     "execution_count": 6,
     "metadata": {},
     "output_type": "execute_result"
    }
   ],
   "source": [
    "def strip_senses(senses):\n",
    "    ret = {}\n",
    "    for i, sense in enumerate(senses):\n",
    "        tdef = sense_to_def(sense)\n",
    "        ret[i+1] = tdef\n",
    "    return ret\n",
    "def strip_entry(entry):\n",
    "    new_entry = {\n",
    "        'senses':strip_senses(entry['senses']),\n",
    "        'entry':entry['japanese']\n",
    "    }\n",
    "    return new_entry\n",
    "def resp_to_dict(resp):\n",
    "    ret = {}\n",
    "    data = resp['data']\n",
    "    for i,entry in enumerate(data):\n",
    "        ret[num_to_letter(i+1)] = strip_entry(entry)\n",
    "    return ret\n",
    "def print_def_from_dict(d, verbose):\n",
    "    def entry2_to_text(entry):\n",
    "        japanese_words = [f'{w.get(\"word\") or \"\"} ({w.get(\"reading\") or \"\"})'for w in entry['entry']]\n",
    "        entry_str = '; '.join(japanese_words) + '\\n'\n",
    "        for i, sense in entry['senses'].items():\n",
    "            semicolon = '; ' if i < len(entry['senses']) - 1 else ''\n",
    "            def_str = f'({i}) '+sense+semicolon\n",
    "            entry_str += def_str\n",
    "        return entry_str\n",
    "    ret = ''\n",
    "    for i,letter in enumerate(d.keys()):\n",
    "        linebreak = '\\n\\n' if i != 0 else ''\n",
    "        ret += linebreak + letter +'. '\n",
    "        ret += entry2_to_text(d[letter])\n",
    "    if verbose:\n",
    "        print(ret)\n",
    "def search(keyword, verbose=True):\n",
    "    resp = jisho_api(keyword)\n",
    "    d = resp_to_dict(resp)\n",
    "    print_def_from_dict(d, verbose)\n",
    "    return d\n",
    "t = search('後悔', False)\n",
    "search('hello')"
   ]
  },
  {
   "cell_type": "code",
   "execution_count": 8,
   "metadata": {},
   "outputs": [
    {
     "data": {
      "text/plain": [
       "{'words': '後悔', 'reading': 'こうかい', 'eng': 'regret, repentance, remorse'}"
      ]
     },
     "execution_count": 8,
     "metadata": {},
     "output_type": "execute_result"
    }
   ],
   "source": [
    "inp = 'B2'\n",
    "def read_json(path):\n",
    "    with open(path, 'w+') as jsonf:\n",
    "        if not jsonf.read():\n",
    "            jsonf.write('{}')\n",
    "    with open(path, 'r') as jsonf:\n",
    "        ret = json.load(jsonf)\n",
    "    return ret\n",
    "def write_json(path, dictionary):\n",
    "    with open(path, 'w') as file:\n",
    "        json.dump(dictionary, file)\n",
    "def parse_input(inp):\n",
    "    letter, num = inp[0], inp[1:]\n",
    "    if not letter.isalpha():\n",
    "        raise ValueError(\"Invalid entry letter.\")\n",
    "    if not num.isdigit():\n",
    "        raise ValueError(\"Invalid definition number.\")\n",
    "    return inp[0].upper(), int(inp[1:])\n",
    "def valid_input(inp):\n",
    "    return inp[0].isalpha() and inp[1:].isdigit()\n",
    "def input_to_dict(entries, inp):\n",
    "    letter, num = parse_input(inp)\n",
    "    try:\n",
    "        entry = entries[letter]\n",
    "        eng = entry['senses'][num]\n",
    "    except (ValueError, KeyError) as e:\n",
    "        print('Invalid input? Try another input.', str(e))\n",
    "        return []\n",
    "    word_list = [w.get('word') for w in entry['entry']]\n",
    "    if any(word_list):\n",
    "        words = ', '.join(word_list)\n",
    "        reading = entry['entry'][0]['reading']\n",
    "    else:\n",
    "        words = entry['entry'][0]['reading']\n",
    "        reading = ''\n",
    "    return {\n",
    "        \"words\": words,\n",
    "        \"reading\": reading,\n",
    "        \"eng\": eng\n",
    "    }\n",
    "input_to_dict(t, 'A1')"
   ]
  },
  {
   "cell_type": "code",
   "execution_count": 9,
   "metadata": {},
   "outputs": [],
   "source": [
    "class Jisho:\n",
    "    def __init__(self, json_path, cur_list):\n",
    "        self.cur_word = {}\n",
    "        self.prev_word = {}\n",
    "        self.json_path = json_path\n",
    "        self.lists = read_json(self.json_path)\n",
    "        self.cur_list = cur_list\n",
    "    def lookup(self, keyword):\n",
    "        self.prev_dict = self.cur_word\n",
    "        self.cur_word = search(keyword)\n",
    "    def save_entry(self, inp):\n",
    "        selected = input_to_dict(cur_list, inp)\n",
    "        self.selected[timestamp] = datetime.datetime.now()\n",
    "        self.lists[self.cur_list].append(selected)\n",
    "        write_json(self.json_path, self.lists)\n",
    "    def write_csv_line(self, inp):\n",
    "        line = input_to_csv_line(self.cur_dict, inp)\n",
    "        print(line)\n",
    "        with open(self.csv_path, 'a+', encoding='utf-8') as outfile:\n",
    "            outfile.write(line)"
   ]
  },
  {
   "cell_type": "code",
   "execution_count": 13,
   "metadata": {},
   "outputs": [
    {
     "ename": "FileNotFoundError",
     "evalue": "[Errno 2] No such file or directory: 'C:\\\\Users\\\\John\\\\programming\\\\misc\\\\temp_csv.txt'",
     "output_type": "error",
     "traceback": [
      "\u001b[1;31m---------------------------------------------------------------------------\u001b[0m",
      "\u001b[1;31mFileNotFoundError\u001b[0m                         Traceback (most recent call last)",
      "\u001b[1;32m<ipython-input-13-796a17e72d19>\u001b[0m in \u001b[0;36m<module>\u001b[1;34m\u001b[0m\n\u001b[0;32m      1\u001b[0m \u001b[0mpath\u001b[0m \u001b[1;33m=\u001b[0m \u001b[1;34mr'C:\\Users\\John\\programming\\misc\\temp_csv.txt'\u001b[0m\u001b[1;33m\u001b[0m\u001b[1;33m\u001b[0m\u001b[0m\n\u001b[1;32m----> 2\u001b[1;33m \u001b[0mj\u001b[0m \u001b[1;33m=\u001b[0m \u001b[0mJisho\u001b[0m\u001b[1;33m(\u001b[0m\u001b[0mpath\u001b[0m\u001b[1;33m,\u001b[0m \u001b[1;34m''\u001b[0m\u001b[1;33m)\u001b[0m\u001b[1;33m\u001b[0m\u001b[1;33m\u001b[0m\u001b[0m\n\u001b[0m",
      "\u001b[1;32m<ipython-input-9-ee5e94a3b8e3>\u001b[0m in \u001b[0;36m__init__\u001b[1;34m(self, json_path, cur_list)\u001b[0m\n\u001b[0;32m      4\u001b[0m         \u001b[0mself\u001b[0m\u001b[1;33m.\u001b[0m\u001b[0mprev_word\u001b[0m \u001b[1;33m=\u001b[0m \u001b[1;33m{\u001b[0m\u001b[1;33m}\u001b[0m\u001b[1;33m\u001b[0m\u001b[1;33m\u001b[0m\u001b[0m\n\u001b[0;32m      5\u001b[0m         \u001b[0mself\u001b[0m\u001b[1;33m.\u001b[0m\u001b[0mjson_path\u001b[0m \u001b[1;33m=\u001b[0m \u001b[0mjson_path\u001b[0m\u001b[1;33m\u001b[0m\u001b[1;33m\u001b[0m\u001b[0m\n\u001b[1;32m----> 6\u001b[1;33m         \u001b[0mself\u001b[0m\u001b[1;33m.\u001b[0m\u001b[0mlists\u001b[0m \u001b[1;33m=\u001b[0m \u001b[0mread_json\u001b[0m\u001b[1;33m(\u001b[0m\u001b[0mself\u001b[0m\u001b[1;33m.\u001b[0m\u001b[0mjson_path\u001b[0m\u001b[1;33m)\u001b[0m\u001b[1;33m\u001b[0m\u001b[1;33m\u001b[0m\u001b[0m\n\u001b[0m\u001b[0;32m      7\u001b[0m         \u001b[0mself\u001b[0m\u001b[1;33m.\u001b[0m\u001b[0mcur_list\u001b[0m \u001b[1;33m=\u001b[0m \u001b[0mcur_list\u001b[0m\u001b[1;33m\u001b[0m\u001b[1;33m\u001b[0m\u001b[0m\n\u001b[0;32m      8\u001b[0m     \u001b[1;32mdef\u001b[0m \u001b[0mlookup\u001b[0m\u001b[1;33m(\u001b[0m\u001b[0mself\u001b[0m\u001b[1;33m,\u001b[0m \u001b[0mkeyword\u001b[0m\u001b[1;33m)\u001b[0m\u001b[1;33m:\u001b[0m\u001b[1;33m\u001b[0m\u001b[1;33m\u001b[0m\u001b[0m\n",
      "\u001b[1;32m<ipython-input-8-ea524354621d>\u001b[0m in \u001b[0;36mread_json\u001b[1;34m(path)\u001b[0m\n\u001b[0;32m      1\u001b[0m \u001b[0minp\u001b[0m \u001b[1;33m=\u001b[0m \u001b[1;34m'B2'\u001b[0m\u001b[1;33m\u001b[0m\u001b[1;33m\u001b[0m\u001b[0m\n\u001b[0;32m      2\u001b[0m \u001b[1;32mdef\u001b[0m \u001b[0mread_json\u001b[0m\u001b[1;33m(\u001b[0m\u001b[0mpath\u001b[0m\u001b[1;33m)\u001b[0m\u001b[1;33m:\u001b[0m\u001b[1;33m\u001b[0m\u001b[1;33m\u001b[0m\u001b[0m\n\u001b[1;32m----> 3\u001b[1;33m     \u001b[1;32mwith\u001b[0m \u001b[0mopen\u001b[0m\u001b[1;33m(\u001b[0m\u001b[0mpath\u001b[0m\u001b[1;33m,\u001b[0m \u001b[1;34m'w+'\u001b[0m\u001b[1;33m)\u001b[0m \u001b[1;32mas\u001b[0m \u001b[0mjsonf\u001b[0m\u001b[1;33m:\u001b[0m\u001b[1;33m\u001b[0m\u001b[1;33m\u001b[0m\u001b[0m\n\u001b[0m\u001b[0;32m      4\u001b[0m         \u001b[1;32mif\u001b[0m \u001b[1;32mnot\u001b[0m \u001b[0mjsonf\u001b[0m\u001b[1;33m.\u001b[0m\u001b[0mread\u001b[0m\u001b[1;33m(\u001b[0m\u001b[1;33m)\u001b[0m\u001b[1;33m:\u001b[0m\u001b[1;33m\u001b[0m\u001b[1;33m\u001b[0m\u001b[0m\n\u001b[0;32m      5\u001b[0m             \u001b[0mjsonf\u001b[0m\u001b[1;33m.\u001b[0m\u001b[0mwrite\u001b[0m\u001b[1;33m(\u001b[0m\u001b[1;34m'{}'\u001b[0m\u001b[1;33m)\u001b[0m\u001b[1;33m\u001b[0m\u001b[1;33m\u001b[0m\u001b[0m\n",
      "\u001b[1;31mFileNotFoundError\u001b[0m: [Errno 2] No such file or directory: 'C:\\\\Users\\\\John\\\\programming\\\\misc\\\\temp_csv.txt'"
     ]
    }
   ],
   "source": [
    "path = r'C:\\Users\\John\\programming\\misc\\temp_csv.txt'\n",
    "j = Jisho(path, '')"
   ]
  },
  {
   "cell_type": "code",
   "execution_count": 11,
   "metadata": {},
   "outputs": [
    {
     "ename": "NameError",
     "evalue": "name 'j' is not defined",
     "output_type": "error",
     "traceback": [
      "\u001b[1;31m---------------------------------------------------------------------------\u001b[0m",
      "\u001b[1;31mNameError\u001b[0m                                 Traceback (most recent call last)",
      "\u001b[1;32m<ipython-input-11-2a9a6ba092ff>\u001b[0m in \u001b[0;36m<module>\u001b[1;34m\u001b[0m\n\u001b[1;32m----> 1\u001b[1;33m \u001b[0mj\u001b[0m\u001b[1;33m.\u001b[0m\u001b[0mlookup\u001b[0m\u001b[1;33m(\u001b[0m\u001b[1;34m'hello'\u001b[0m\u001b[1;33m)\u001b[0m\u001b[1;33m\u001b[0m\u001b[1;33m\u001b[0m\u001b[0m\n\u001b[0m",
      "\u001b[1;31mNameError\u001b[0m: name 'j' is not defined"
     ]
    }
   ],
   "source": [
    "j.lookup('hello')"
   ]
  },
  {
   "cell_type": "code",
   "execution_count": 179,
   "metadata": {},
   "outputs": [
    {
     "name": "stdout",
     "output_type": "stream",
     "text": [
      "ほいほい=\n",
      "novice, beginner~\n"
     ]
    }
   ],
   "source": [
    "j.write_csv_line('S7')"
   ]
  },
  {
   "cell_type": "code",
   "execution_count": 183,
   "metadata": {},
   "outputs": [
    {
     "data": {
      "text/plain": [
       "datetime.datetime(2019, 10, 20, 4, 6, 31, 707277)"
      ]
     },
     "execution_count": 183,
     "metadata": {},
     "output_type": "execute_result"
    }
   ],
   "source": [
    "import datetime\n",
    "datetime.datetime.now()"
   ]
  },
  {
   "cell_type": "code",
   "execution_count": 199,
   "metadata": {},
   "outputs": [
    {
     "data": {
      "text/plain": [
       "{}"
      ]
     },
     "execution_count": 199,
     "metadata": {},
     "output_type": "execute_result"
    }
   ],
   "source": [
    "path = r'C:\\Users\\John\\programming\\misc\\temp_csv.txt'\n",
    "import json\n",
    "def read_json(path):\n",
    "    with open(path, 'w+') as jsonf:\n",
    "        if not jsonf.read():\n",
    "            jsonf.write('{}')\n",
    "    with open(path, 'r') as jsonf:\n",
    "        ret = json.load(jsonf)\n",
    "    return ret\n",
    "read_json(path)\n",
    "def write_json(path, dictionary):\n",
    "    with open(path, 'w') as file:\n",
    "        json.dump(dictionary, file)"
   ]
  },
  {
   "cell_type": "code",
   "execution_count": 200,
   "metadata": {},
   "outputs": [],
   "source": [
    "a = {1:2}"
   ]
  },
  {
   "cell_type": "code",
   "execution_count": 203,
   "metadata": {},
   "outputs": [],
   "source": [
    "with open(path, 'w') as file:\n",
    "    json.dump(a, file)"
   ]
  },
  {
   "cell_type": "code",
   "execution_count": null,
   "metadata": {},
   "outputs": [],
   "source": []
  }
 ],
 "metadata": {
  "kernelspec": {
   "display_name": "Python 3",
   "language": "python",
   "name": "python3"
  },
  "language_info": {
   "codemirror_mode": {
    "name": "ipython",
    "version": 3
   },
   "file_extension": ".py",
   "mimetype": "text/x-python",
   "name": "python",
   "nbconvert_exporter": "python",
   "pygments_lexer": "ipython3",
   "version": "3.7.4"
  }
 },
 "nbformat": 4,
 "nbformat_minor": 2
}
